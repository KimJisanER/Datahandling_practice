{
  "nbformat": 4,
  "nbformat_minor": 0,
  "metadata": {
    "colab": {
      "name": "3rd_travel_insurance.ipynb",
      "provenance": [],
      "collapsed_sections": [],
      "mount_file_id": "1luAamnM9cEec8K2UToCvmbI9ZWLXnVXE",
      "authorship_tag": "ABX9TyNHp+5H2uwAjE7b4wGo7Q4E",
      "include_colab_link": true
    },
    "kernelspec": {
      "name": "python3",
      "display_name": "Python 3"
    },
    "language_info": {
      "name": "python"
    }
  },
  "cells": [
    {
      "cell_type": "markdown",
      "metadata": {
        "id": "view-in-github",
        "colab_type": "text"
      },
      "source": [
        "<a href=\"https://colab.research.google.com/github/KimJisanER/KimJisan_data/blob/main/3rd_travel_insurance.ipynb\" target=\"_parent\"><img src=\"https://colab.research.google.com/assets/colab-badge.svg\" alt=\"Open In Colab\"/></a>"
      ]
    },
    {
      "cell_type": "code",
      "execution_count": 110,
      "metadata": {
        "id": "H7iJ7Wwg36Z9"
      },
      "outputs": [],
      "source": [
        "import pandas as pd\n",
        "train = pd.read_csv(\"/content/drive/MyDrive/빅분기 3회/train.csv\")\n",
        "test = pd.read_csv('/content/drive/MyDrive/빅분기 3회/test.csv')\n",
        "\n",
        "# 보험가입 확률을 묻는 문제\n",
        "\n",
        "# 출력형태 \n",
        "# index,y_pred\n",
        "# 0,0.15246735144689827\n",
        "# 1,0.9615112924356346\n",
        "# 2,0.15131398160778645\n",
        "# 3,0.23663288296712173\n",
        "# 4,0.9385824940846587\n",
        "# 5,0.15738583559845978"
      ]
    },
    {
      "cell_type": "code",
      "source": [
        "print(train.head().T)\n",
        "print(test.head().T)"
      ],
      "metadata": {
        "colab": {
          "base_uri": "https://localhost:8080/"
        },
        "id": "vOyz6wwx4nam",
        "outputId": "42ba5598-bd0c-4f3a-f940-ac1dab359abf"
      },
      "execution_count": 111,
      "outputs": [
        {
          "output_type": "stream",
          "name": "stdout",
          "text": [
            "                                                0  ...                  4\n",
            "Unnamed: 0                                   1704  ...               1268\n",
            "Age                                            26  ...                 33\n",
            "Employment Type      Private Sector/Self Employed  ...  Government Sector\n",
            "GraduateOrNot                                 Yes  ...                Yes\n",
            "AnnualIncome                              1400000  ...            1000000\n",
            "FamilyMembers                                   3  ...                  5\n",
            "ChronicDiseases                                 1  ...                  0\n",
            "FrequentFlyer                                  No  ...                 No\n",
            "EverTravelledAbroad                           Yes  ...                Yes\n",
            "TravelInsurance                                 0  ...                  1\n",
            "\n",
            "[10 rows x 5 columns]\n",
            "                                     0  ...                             4\n",
            "Unnamed: 0                        1569  ...                           101\n",
            "Age                                 27  ...                            33\n",
            "Employment Type      Government Sector  ...  Private Sector/Self Employed\n",
            "GraduateOrNot                      Yes  ...                           Yes\n",
            "AnnualIncome                    500000  ...                       1500000\n",
            "FamilyMembers                        5  ...                             3\n",
            "ChronicDiseases                      0  ...                             1\n",
            "FrequentFlyer                       No  ...                           Yes\n",
            "EverTravelledAbroad                 No  ...                           Yes\n",
            "\n",
            "[9 rows x 5 columns]\n"
          ]
        }
      ]
    },
    {
      "cell_type": "code",
      "source": [
        "print(train.info())\n",
        "print(test.info())"
      ],
      "metadata": {
        "colab": {
          "base_uri": "https://localhost:8080/"
        },
        "id": "olVVuZlL58dY",
        "outputId": "e84a6b2e-eb71-4cc1-c099-5f3aa0a909fb"
      },
      "execution_count": 112,
      "outputs": [
        {
          "output_type": "stream",
          "name": "stdout",
          "text": [
            "<class 'pandas.core.frame.DataFrame'>\n",
            "RangeIndex: 1490 entries, 0 to 1489\n",
            "Data columns (total 10 columns):\n",
            " #   Column               Non-Null Count  Dtype \n",
            "---  ------               --------------  ----- \n",
            " 0   Unnamed: 0           1490 non-null   int64 \n",
            " 1   Age                  1490 non-null   int64 \n",
            " 2   Employment Type      1490 non-null   object\n",
            " 3   GraduateOrNot        1490 non-null   object\n",
            " 4   AnnualIncome         1490 non-null   int64 \n",
            " 5   FamilyMembers        1490 non-null   int64 \n",
            " 6   ChronicDiseases      1490 non-null   int64 \n",
            " 7   FrequentFlyer        1490 non-null   object\n",
            " 8   EverTravelledAbroad  1490 non-null   object\n",
            " 9   TravelInsurance      1490 non-null   int64 \n",
            "dtypes: int64(6), object(4)\n",
            "memory usage: 116.5+ KB\n",
            "None\n",
            "<class 'pandas.core.frame.DataFrame'>\n",
            "RangeIndex: 497 entries, 0 to 496\n",
            "Data columns (total 9 columns):\n",
            " #   Column               Non-Null Count  Dtype \n",
            "---  ------               --------------  ----- \n",
            " 0   Unnamed: 0           497 non-null    int64 \n",
            " 1   Age                  497 non-null    int64 \n",
            " 2   Employment Type      497 non-null    object\n",
            " 3   GraduateOrNot        497 non-null    object\n",
            " 4   AnnualIncome         497 non-null    int64 \n",
            " 5   FamilyMembers        497 non-null    int64 \n",
            " 6   ChronicDiseases      497 non-null    int64 \n",
            " 7   FrequentFlyer        497 non-null    object\n",
            " 8   EverTravelledAbroad  497 non-null    object\n",
            "dtypes: int64(5), object(4)\n",
            "memory usage: 35.1+ KB\n",
            "None\n"
          ]
        }
      ]
    },
    {
      "cell_type": "markdown",
      "source": [
        "'Employment Type', 'GraduateOrNot', 'FrequentFlyer', 'EverTravelledAbroad' object type  "
      ],
      "metadata": {
        "id": "-SkaT3b76S8T"
      }
    },
    {
      "cell_type": "code",
      "source": [
        "print(train.isnull().sum())\n",
        "print(test.isnull().sum())"
      ],
      "metadata": {
        "colab": {
          "base_uri": "https://localhost:8080/"
        },
        "id": "BHzJ9Mv96pTy",
        "outputId": "aac88741-c003-487b-e4a2-d5afa05d466a"
      },
      "execution_count": 113,
      "outputs": [
        {
          "output_type": "stream",
          "name": "stdout",
          "text": [
            "Unnamed: 0             0\n",
            "Age                    0\n",
            "Employment Type        0\n",
            "GraduateOrNot          0\n",
            "AnnualIncome           0\n",
            "FamilyMembers          0\n",
            "ChronicDiseases        0\n",
            "FrequentFlyer          0\n",
            "EverTravelledAbroad    0\n",
            "TravelInsurance        0\n",
            "dtype: int64\n",
            "Unnamed: 0             0\n",
            "Age                    0\n",
            "Employment Type        0\n",
            "GraduateOrNot          0\n",
            "AnnualIncome           0\n",
            "FamilyMembers          0\n",
            "ChronicDiseases        0\n",
            "FrequentFlyer          0\n",
            "EverTravelledAbroad    0\n",
            "dtype: int64\n"
          ]
        }
      ]
    },
    {
      "cell_type": "markdown",
      "source": [
        "결측치 없음"
      ],
      "metadata": {
        "id": "Q15eie7G7SuJ"
      }
    },
    {
      "cell_type": "markdown",
      "source": [
        "X,y 나누기"
      ],
      "metadata": {
        "id": "UB_uxfB77z9T"
      }
    },
    {
      "cell_type": "code",
      "source": [
        "X_train=train.drop(columns=['TravelInsurance','Unnamed: 0'])\n",
        "y_train=train['TravelInsurance']\n",
        "\n",
        "X_test=test"
      ],
      "metadata": {
        "id": "fwWt_3h97Yja"
      },
      "execution_count": 114,
      "outputs": []
    },
    {
      "cell_type": "code",
      "source": [
        "test_name=test['Unnamed: 0']\n",
        "X_test=test.drop(columns='Unnamed: 0')"
      ],
      "metadata": {
        "id": "TlfI-3YeKbkH"
      },
      "execution_count": 115,
      "outputs": []
    },
    {
      "cell_type": "code",
      "source": [
        "X_train.describe()"
      ],
      "metadata": {
        "colab": {
          "base_uri": "https://localhost:8080/",
          "height": 300
        },
        "id": "Yy0hT8RP7tPy",
        "outputId": "c3ecca55-6178-45b7-cb5e-f278e87f56db"
      },
      "execution_count": 116,
      "outputs": [
        {
          "output_type": "execute_result",
          "data": {
            "text/html": [
              "\n",
              "  <div id=\"df-a783077b-2fa1-4b6e-a307-3489fd83cbc5\">\n",
              "    <div class=\"colab-df-container\">\n",
              "      <div>\n",
              "<style scoped>\n",
              "    .dataframe tbody tr th:only-of-type {\n",
              "        vertical-align: middle;\n",
              "    }\n",
              "\n",
              "    .dataframe tbody tr th {\n",
              "        vertical-align: top;\n",
              "    }\n",
              "\n",
              "    .dataframe thead th {\n",
              "        text-align: right;\n",
              "    }\n",
              "</style>\n",
              "<table border=\"1\" class=\"dataframe\">\n",
              "  <thead>\n",
              "    <tr style=\"text-align: right;\">\n",
              "      <th></th>\n",
              "      <th>Age</th>\n",
              "      <th>AnnualIncome</th>\n",
              "      <th>FamilyMembers</th>\n",
              "      <th>ChronicDiseases</th>\n",
              "    </tr>\n",
              "  </thead>\n",
              "  <tbody>\n",
              "    <tr>\n",
              "      <th>count</th>\n",
              "      <td>1490.000000</td>\n",
              "      <td>1.490000e+03</td>\n",
              "      <td>1490.000000</td>\n",
              "      <td>1490.000000</td>\n",
              "    </tr>\n",
              "    <tr>\n",
              "      <th>mean</th>\n",
              "      <td>29.668456</td>\n",
              "      <td>9.386577e+05</td>\n",
              "      <td>4.732215</td>\n",
              "      <td>0.285235</td>\n",
              "    </tr>\n",
              "    <tr>\n",
              "      <th>std</th>\n",
              "      <td>2.935416</td>\n",
              "      <td>3.731487e+05</td>\n",
              "      <td>1.612608</td>\n",
              "      <td>0.451678</td>\n",
              "    </tr>\n",
              "    <tr>\n",
              "      <th>min</th>\n",
              "      <td>25.000000</td>\n",
              "      <td>3.000000e+05</td>\n",
              "      <td>2.000000</td>\n",
              "      <td>0.000000</td>\n",
              "    </tr>\n",
              "    <tr>\n",
              "      <th>25%</th>\n",
              "      <td>28.000000</td>\n",
              "      <td>6.000000e+05</td>\n",
              "      <td>4.000000</td>\n",
              "      <td>0.000000</td>\n",
              "    </tr>\n",
              "    <tr>\n",
              "      <th>50%</th>\n",
              "      <td>29.000000</td>\n",
              "      <td>9.000000e+05</td>\n",
              "      <td>5.000000</td>\n",
              "      <td>0.000000</td>\n",
              "    </tr>\n",
              "    <tr>\n",
              "      <th>75%</th>\n",
              "      <td>32.000000</td>\n",
              "      <td>1.250000e+06</td>\n",
              "      <td>6.000000</td>\n",
              "      <td>1.000000</td>\n",
              "    </tr>\n",
              "    <tr>\n",
              "      <th>max</th>\n",
              "      <td>35.000000</td>\n",
              "      <td>1.800000e+06</td>\n",
              "      <td>9.000000</td>\n",
              "      <td>1.000000</td>\n",
              "    </tr>\n",
              "  </tbody>\n",
              "</table>\n",
              "</div>\n",
              "      <button class=\"colab-df-convert\" onclick=\"convertToInteractive('df-a783077b-2fa1-4b6e-a307-3489fd83cbc5')\"\n",
              "              title=\"Convert this dataframe to an interactive table.\"\n",
              "              style=\"display:none;\">\n",
              "        \n",
              "  <svg xmlns=\"http://www.w3.org/2000/svg\" height=\"24px\"viewBox=\"0 0 24 24\"\n",
              "       width=\"24px\">\n",
              "    <path d=\"M0 0h24v24H0V0z\" fill=\"none\"/>\n",
              "    <path d=\"M18.56 5.44l.94 2.06.94-2.06 2.06-.94-2.06-.94-.94-2.06-.94 2.06-2.06.94zm-11 1L8.5 8.5l.94-2.06 2.06-.94-2.06-.94L8.5 2.5l-.94 2.06-2.06.94zm10 10l.94 2.06.94-2.06 2.06-.94-2.06-.94-.94-2.06-.94 2.06-2.06.94z\"/><path d=\"M17.41 7.96l-1.37-1.37c-.4-.4-.92-.59-1.43-.59-.52 0-1.04.2-1.43.59L10.3 9.45l-7.72 7.72c-.78.78-.78 2.05 0 2.83L4 21.41c.39.39.9.59 1.41.59.51 0 1.02-.2 1.41-.59l7.78-7.78 2.81-2.81c.8-.78.8-2.07 0-2.86zM5.41 20L4 18.59l7.72-7.72 1.47 1.35L5.41 20z\"/>\n",
              "  </svg>\n",
              "      </button>\n",
              "      \n",
              "  <style>\n",
              "    .colab-df-container {\n",
              "      display:flex;\n",
              "      flex-wrap:wrap;\n",
              "      gap: 12px;\n",
              "    }\n",
              "\n",
              "    .colab-df-convert {\n",
              "      background-color: #E8F0FE;\n",
              "      border: none;\n",
              "      border-radius: 50%;\n",
              "      cursor: pointer;\n",
              "      display: none;\n",
              "      fill: #1967D2;\n",
              "      height: 32px;\n",
              "      padding: 0 0 0 0;\n",
              "      width: 32px;\n",
              "    }\n",
              "\n",
              "    .colab-df-convert:hover {\n",
              "      background-color: #E2EBFA;\n",
              "      box-shadow: 0px 1px 2px rgba(60, 64, 67, 0.3), 0px 1px 3px 1px rgba(60, 64, 67, 0.15);\n",
              "      fill: #174EA6;\n",
              "    }\n",
              "\n",
              "    [theme=dark] .colab-df-convert {\n",
              "      background-color: #3B4455;\n",
              "      fill: #D2E3FC;\n",
              "    }\n",
              "\n",
              "    [theme=dark] .colab-df-convert:hover {\n",
              "      background-color: #434B5C;\n",
              "      box-shadow: 0px 1px 3px 1px rgba(0, 0, 0, 0.15);\n",
              "      filter: drop-shadow(0px 1px 2px rgba(0, 0, 0, 0.3));\n",
              "      fill: #FFFFFF;\n",
              "    }\n",
              "  </style>\n",
              "\n",
              "      <script>\n",
              "        const buttonEl =\n",
              "          document.querySelector('#df-a783077b-2fa1-4b6e-a307-3489fd83cbc5 button.colab-df-convert');\n",
              "        buttonEl.style.display =\n",
              "          google.colab.kernel.accessAllowed ? 'block' : 'none';\n",
              "\n",
              "        async function convertToInteractive(key) {\n",
              "          const element = document.querySelector('#df-a783077b-2fa1-4b6e-a307-3489fd83cbc5');\n",
              "          const dataTable =\n",
              "            await google.colab.kernel.invokeFunction('convertToInteractive',\n",
              "                                                     [key], {});\n",
              "          if (!dataTable) return;\n",
              "\n",
              "          const docLinkHtml = 'Like what you see? Visit the ' +\n",
              "            '<a target=\"_blank\" href=https://colab.research.google.com/notebooks/data_table.ipynb>data table notebook</a>'\n",
              "            + ' to learn more about interactive tables.';\n",
              "          element.innerHTML = '';\n",
              "          dataTable['output_type'] = 'display_data';\n",
              "          await google.colab.output.renderOutput(dataTable, element);\n",
              "          const docLink = document.createElement('div');\n",
              "          docLink.innerHTML = docLinkHtml;\n",
              "          element.appendChild(docLink);\n",
              "        }\n",
              "      </script>\n",
              "    </div>\n",
              "  </div>\n",
              "  "
            ],
            "text/plain": [
              "               Age  AnnualIncome  FamilyMembers  ChronicDiseases\n",
              "count  1490.000000  1.490000e+03    1490.000000      1490.000000\n",
              "mean     29.668456  9.386577e+05       4.732215         0.285235\n",
              "std       2.935416  3.731487e+05       1.612608         0.451678\n",
              "min      25.000000  3.000000e+05       2.000000         0.000000\n",
              "25%      28.000000  6.000000e+05       4.000000         0.000000\n",
              "50%      29.000000  9.000000e+05       5.000000         0.000000\n",
              "75%      32.000000  1.250000e+06       6.000000         1.000000\n",
              "max      35.000000  1.800000e+06       9.000000         1.000000"
            ]
          },
          "metadata": {},
          "execution_count": 116
        }
      ]
    },
    {
      "cell_type": "code",
      "source": [
        "X_test.describe()"
      ],
      "metadata": {
        "colab": {
          "base_uri": "https://localhost:8080/",
          "height": 300
        },
        "id": "E2GG_YfF9C-M",
        "outputId": "7bdc13c7-a021-4d6f-dd4e-58d245b9d518"
      },
      "execution_count": 117,
      "outputs": [
        {
          "output_type": "execute_result",
          "data": {
            "text/html": [
              "\n",
              "  <div id=\"df-d77d10af-dfd0-4ca2-a035-728efbc1e5f2\">\n",
              "    <div class=\"colab-df-container\">\n",
              "      <div>\n",
              "<style scoped>\n",
              "    .dataframe tbody tr th:only-of-type {\n",
              "        vertical-align: middle;\n",
              "    }\n",
              "\n",
              "    .dataframe tbody tr th {\n",
              "        vertical-align: top;\n",
              "    }\n",
              "\n",
              "    .dataframe thead th {\n",
              "        text-align: right;\n",
              "    }\n",
              "</style>\n",
              "<table border=\"1\" class=\"dataframe\">\n",
              "  <thead>\n",
              "    <tr style=\"text-align: right;\">\n",
              "      <th></th>\n",
              "      <th>Age</th>\n",
              "      <th>AnnualIncome</th>\n",
              "      <th>FamilyMembers</th>\n",
              "      <th>ChronicDiseases</th>\n",
              "    </tr>\n",
              "  </thead>\n",
              "  <tbody>\n",
              "    <tr>\n",
              "      <th>count</th>\n",
              "      <td>497.000000</td>\n",
              "      <td>4.970000e+02</td>\n",
              "      <td>497.000000</td>\n",
              "      <td>497.000000</td>\n",
              "    </tr>\n",
              "    <tr>\n",
              "      <th>mean</th>\n",
              "      <td>29.595573</td>\n",
              "      <td>9.150905e+05</td>\n",
              "      <td>4.814889</td>\n",
              "      <td>0.255533</td>\n",
              "    </tr>\n",
              "    <tr>\n",
              "      <th>std</th>\n",
              "      <td>2.848213</td>\n",
              "      <td>3.876023e+05</td>\n",
              "      <td>1.600762</td>\n",
              "      <td>0.436600</td>\n",
              "    </tr>\n",
              "    <tr>\n",
              "      <th>min</th>\n",
              "      <td>25.000000</td>\n",
              "      <td>3.000000e+05</td>\n",
              "      <td>2.000000</td>\n",
              "      <td>0.000000</td>\n",
              "    </tr>\n",
              "    <tr>\n",
              "      <th>25%</th>\n",
              "      <td>28.000000</td>\n",
              "      <td>5.500000e+05</td>\n",
              "      <td>4.000000</td>\n",
              "      <td>0.000000</td>\n",
              "    </tr>\n",
              "    <tr>\n",
              "      <th>50%</th>\n",
              "      <td>29.000000</td>\n",
              "      <td>9.000000e+05</td>\n",
              "      <td>5.000000</td>\n",
              "      <td>0.000000</td>\n",
              "    </tr>\n",
              "    <tr>\n",
              "      <th>75%</th>\n",
              "      <td>32.000000</td>\n",
              "      <td>1.200000e+06</td>\n",
              "      <td>6.000000</td>\n",
              "      <td>1.000000</td>\n",
              "    </tr>\n",
              "    <tr>\n",
              "      <th>max</th>\n",
              "      <td>35.000000</td>\n",
              "      <td>1.800000e+06</td>\n",
              "      <td>9.000000</td>\n",
              "      <td>1.000000</td>\n",
              "    </tr>\n",
              "  </tbody>\n",
              "</table>\n",
              "</div>\n",
              "      <button class=\"colab-df-convert\" onclick=\"convertToInteractive('df-d77d10af-dfd0-4ca2-a035-728efbc1e5f2')\"\n",
              "              title=\"Convert this dataframe to an interactive table.\"\n",
              "              style=\"display:none;\">\n",
              "        \n",
              "  <svg xmlns=\"http://www.w3.org/2000/svg\" height=\"24px\"viewBox=\"0 0 24 24\"\n",
              "       width=\"24px\">\n",
              "    <path d=\"M0 0h24v24H0V0z\" fill=\"none\"/>\n",
              "    <path d=\"M18.56 5.44l.94 2.06.94-2.06 2.06-.94-2.06-.94-.94-2.06-.94 2.06-2.06.94zm-11 1L8.5 8.5l.94-2.06 2.06-.94-2.06-.94L8.5 2.5l-.94 2.06-2.06.94zm10 10l.94 2.06.94-2.06 2.06-.94-2.06-.94-.94-2.06-.94 2.06-2.06.94z\"/><path d=\"M17.41 7.96l-1.37-1.37c-.4-.4-.92-.59-1.43-.59-.52 0-1.04.2-1.43.59L10.3 9.45l-7.72 7.72c-.78.78-.78 2.05 0 2.83L4 21.41c.39.39.9.59 1.41.59.51 0 1.02-.2 1.41-.59l7.78-7.78 2.81-2.81c.8-.78.8-2.07 0-2.86zM5.41 20L4 18.59l7.72-7.72 1.47 1.35L5.41 20z\"/>\n",
              "  </svg>\n",
              "      </button>\n",
              "      \n",
              "  <style>\n",
              "    .colab-df-container {\n",
              "      display:flex;\n",
              "      flex-wrap:wrap;\n",
              "      gap: 12px;\n",
              "    }\n",
              "\n",
              "    .colab-df-convert {\n",
              "      background-color: #E8F0FE;\n",
              "      border: none;\n",
              "      border-radius: 50%;\n",
              "      cursor: pointer;\n",
              "      display: none;\n",
              "      fill: #1967D2;\n",
              "      height: 32px;\n",
              "      padding: 0 0 0 0;\n",
              "      width: 32px;\n",
              "    }\n",
              "\n",
              "    .colab-df-convert:hover {\n",
              "      background-color: #E2EBFA;\n",
              "      box-shadow: 0px 1px 2px rgba(60, 64, 67, 0.3), 0px 1px 3px 1px rgba(60, 64, 67, 0.15);\n",
              "      fill: #174EA6;\n",
              "    }\n",
              "\n",
              "    [theme=dark] .colab-df-convert {\n",
              "      background-color: #3B4455;\n",
              "      fill: #D2E3FC;\n",
              "    }\n",
              "\n",
              "    [theme=dark] .colab-df-convert:hover {\n",
              "      background-color: #434B5C;\n",
              "      box-shadow: 0px 1px 3px 1px rgba(0, 0, 0, 0.15);\n",
              "      filter: drop-shadow(0px 1px 2px rgba(0, 0, 0, 0.3));\n",
              "      fill: #FFFFFF;\n",
              "    }\n",
              "  </style>\n",
              "\n",
              "      <script>\n",
              "        const buttonEl =\n",
              "          document.querySelector('#df-d77d10af-dfd0-4ca2-a035-728efbc1e5f2 button.colab-df-convert');\n",
              "        buttonEl.style.display =\n",
              "          google.colab.kernel.accessAllowed ? 'block' : 'none';\n",
              "\n",
              "        async function convertToInteractive(key) {\n",
              "          const element = document.querySelector('#df-d77d10af-dfd0-4ca2-a035-728efbc1e5f2');\n",
              "          const dataTable =\n",
              "            await google.colab.kernel.invokeFunction('convertToInteractive',\n",
              "                                                     [key], {});\n",
              "          if (!dataTable) return;\n",
              "\n",
              "          const docLinkHtml = 'Like what you see? Visit the ' +\n",
              "            '<a target=\"_blank\" href=https://colab.research.google.com/notebooks/data_table.ipynb>data table notebook</a>'\n",
              "            + ' to learn more about interactive tables.';\n",
              "          element.innerHTML = '';\n",
              "          dataTable['output_type'] = 'display_data';\n",
              "          await google.colab.output.renderOutput(dataTable, element);\n",
              "          const docLink = document.createElement('div');\n",
              "          docLink.innerHTML = docLinkHtml;\n",
              "          element.appendChild(docLink);\n",
              "        }\n",
              "      </script>\n",
              "    </div>\n",
              "  </div>\n",
              "  "
            ],
            "text/plain": [
              "              Age  AnnualIncome  FamilyMembers  ChronicDiseases\n",
              "count  497.000000  4.970000e+02     497.000000       497.000000\n",
              "mean    29.595573  9.150905e+05       4.814889         0.255533\n",
              "std      2.848213  3.876023e+05       1.600762         0.436600\n",
              "min     25.000000  3.000000e+05       2.000000         0.000000\n",
              "25%     28.000000  5.500000e+05       4.000000         0.000000\n",
              "50%     29.000000  9.000000e+05       5.000000         0.000000\n",
              "75%     32.000000  1.200000e+06       6.000000         1.000000\n",
              "max     35.000000  1.800000e+06       9.000000         1.000000"
            ]
          },
          "metadata": {},
          "execution_count": 117
        }
      ]
    },
    {
      "cell_type": "markdown",
      "source": [
        "이상치도 없음"
      ],
      "metadata": {
        "id": "BQsmpRg59QJL"
      }
    },
    {
      "cell_type": "markdown",
      "source": [
        "인코딩"
      ],
      "metadata": {
        "id": "NpeJgu9Y9bP0"
      }
    },
    {
      "cell_type": "code",
      "source": [
        "from sklearn.preprocessing import LabelEncoder\n",
        "\n",
        "list=['Employment Type', 'GraduateOrNot', 'FrequentFlyer', 'EverTravelledAbroad']\n",
        "X_train.loc[:,list]=X_train.loc[:,list].apply(LabelEncoder().fit_transform)\n",
        "X_test.loc[:,list]=X_test.loc[:,list].apply(LabelEncoder().fit_transform)"
      ],
      "metadata": {
        "id": "qPUUoq7Q9IHU"
      },
      "execution_count": 118,
      "outputs": []
    },
    {
      "cell_type": "code",
      "source": [
        "print(X_train.head().T)\n",
        "print(X_test.head().T)"
      ],
      "metadata": {
        "colab": {
          "base_uri": "https://localhost:8080/"
        },
        "id": "OGg-mlM5-H8f",
        "outputId": "b4e17ed6-b20a-40af-fe38-b8f0870338b4"
      },
      "execution_count": 119,
      "outputs": [
        {
          "output_type": "stream",
          "name": "stdout",
          "text": [
            "                           0        1        2       3        4\n",
            "Age                       26       28       33      28       33\n",
            "Employment Type            1        1        1       1        0\n",
            "GraduateOrNot              1        1        1       1        1\n",
            "AnnualIncome         1400000  1100000  1400000  800000  1000000\n",
            "FamilyMembers              3        4        4       3        5\n",
            "ChronicDiseases            1        1        0       1        0\n",
            "FrequentFlyer              0        0        0       0        0\n",
            "EverTravelledAbroad        1        0        1       0        1\n",
            "                          0        1       2       3        4\n",
            "Age                      27       25      32      33       33\n",
            "Employment Type           0        1       0       0        1\n",
            "GraduateOrNot             1        1       1       1        1\n",
            "AnnualIncome         500000  1700000  650000  600000  1500000\n",
            "FamilyMembers             5        3       3       4        3\n",
            "ChronicDiseases           0        0       0       0        1\n",
            "FrequentFlyer             0        1       0       0        1\n",
            "EverTravelledAbroad       0        0       0       0        1\n"
          ]
        }
      ]
    },
    {
      "cell_type": "markdown",
      "source": [
        "훈련,검증 데이터셋 나누기"
      ],
      "metadata": {
        "id": "ErRLW9AR-yPm"
      }
    },
    {
      "cell_type": "code",
      "source": [
        "from sklearn.model_selection import train_test_split\n",
        "nX_train,nX_val, ny_train, ny_val = train_test_split(X_train,y_train, test_size=0.2, random_state=42)"
      ],
      "metadata": {
        "id": "HDzp77AU-qiH"
      },
      "execution_count": 120,
      "outputs": []
    },
    {
      "cell_type": "markdown",
      "source": [
        "모델학습(랜덤포레스트)"
      ],
      "metadata": {
        "id": "JUpho_cX_fwT"
      }
    },
    {
      "cell_type": "code",
      "source": [
        "from sklearn.ensemble import RandomForestClassifier\n",
        "model=RandomForestClassifier(max_depth=7, n_estimators=100)\n",
        "model.fit(X_train,y_train)\n",
        "\n",
        "print(model.score(nX_train,ny_train))\n",
        "print(model.score(nX_val,ny_val))"
      ],
      "metadata": {
        "colab": {
          "base_uri": "https://localhost:8080/"
        },
        "id": "qpyU4gah_cDI",
        "outputId": "493ec66b-bade-4265-e3a9-82a4a9b574ce"
      },
      "execution_count": 121,
      "outputs": [
        {
          "output_type": "stream",
          "name": "stdout",
          "text": [
            "0.8481543624161074\n",
            "0.8489932885906041\n"
          ]
        }
      ]
    },
    {
      "cell_type": "code",
      "source": [
        "pred_val=model.predict(nX_val)"
      ],
      "metadata": {
        "id": "Mgbrw84ZIjYr"
      },
      "execution_count": 122,
      "outputs": []
    },
    {
      "cell_type": "code",
      "source": [
        "from sklearn.metrics import roc_auc_score\n",
        "\n",
        "roc_auc_score(ny_val, pred_val)"
      ],
      "metadata": {
        "colab": {
          "base_uri": "https://localhost:8080/"
        },
        "id": "wWVxBwBnAduR",
        "outputId": "10a0c866-1b91-4d85-ac8c-fb91835021be"
      },
      "execution_count": 123,
      "outputs": [
        {
          "output_type": "execute_result",
          "data": {
            "text/plain": [
              "0.7943992104613867"
            ]
          },
          "metadata": {},
          "execution_count": 123
        }
      ]
    },
    {
      "cell_type": "code",
      "source": [
        "from sklearn.ensemble import RandomForestClassifier\n",
        "model=RandomForestClassifier(max_depth=7, n_estimators=100)\n",
        "model.fit(X_train,y_train)"
      ],
      "metadata": {
        "colab": {
          "base_uri": "https://localhost:8080/"
        },
        "id": "DumiB24mLGPw",
        "outputId": "deafafd3-f4fa-4f9b-aedd-c5a935f98e44"
      },
      "execution_count": 124,
      "outputs": [
        {
          "output_type": "execute_result",
          "data": {
            "text/plain": [
              "RandomForestClassifier(max_depth=7)"
            ]
          },
          "metadata": {},
          "execution_count": 124
        }
      ]
    },
    {
      "cell_type": "code",
      "source": [
        "pred=model.predict_proba(X_test)"
      ],
      "metadata": {
        "id": "460v2-7KJSWf"
      },
      "execution_count": 209,
      "outputs": []
    },
    {
      "cell_type": "code",
      "source": [
        "pred=pd.DataFrame(pred)\n",
        "pred.columns=['drop','y_pred']\n",
        "pred=pred.iloc[:,1]\n",
        "pred.reset_index()"
      ],
      "metadata": {
        "colab": {
          "base_uri": "https://localhost:8080/",
          "height": 424
        },
        "id": "w3Y0upYuI5Yc",
        "outputId": "7ea2294e-0c7b-4be5-862d-e7425683088b"
      },
      "execution_count": 210,
      "outputs": [
        {
          "output_type": "execute_result",
          "data": {
            "text/html": [
              "\n",
              "  <div id=\"df-ee644051-70e0-4eed-b3e9-33acafb55d11\">\n",
              "    <div class=\"colab-df-container\">\n",
              "      <div>\n",
              "<style scoped>\n",
              "    .dataframe tbody tr th:only-of-type {\n",
              "        vertical-align: middle;\n",
              "    }\n",
              "\n",
              "    .dataframe tbody tr th {\n",
              "        vertical-align: top;\n",
              "    }\n",
              "\n",
              "    .dataframe thead th {\n",
              "        text-align: right;\n",
              "    }\n",
              "</style>\n",
              "<table border=\"1\" class=\"dataframe\">\n",
              "  <thead>\n",
              "    <tr style=\"text-align: right;\">\n",
              "      <th></th>\n",
              "      <th>index</th>\n",
              "      <th>y_pred</th>\n",
              "    </tr>\n",
              "  </thead>\n",
              "  <tbody>\n",
              "    <tr>\n",
              "      <th>0</th>\n",
              "      <td>0</td>\n",
              "      <td>0.162710</td>\n",
              "    </tr>\n",
              "    <tr>\n",
              "      <th>1</th>\n",
              "      <td>1</td>\n",
              "      <td>0.971916</td>\n",
              "    </tr>\n",
              "    <tr>\n",
              "      <th>2</th>\n",
              "      <td>2</td>\n",
              "      <td>0.154992</td>\n",
              "    </tr>\n",
              "    <tr>\n",
              "      <th>3</th>\n",
              "      <td>3</td>\n",
              "      <td>0.282665</td>\n",
              "    </tr>\n",
              "    <tr>\n",
              "      <th>4</th>\n",
              "      <td>4</td>\n",
              "      <td>0.942411</td>\n",
              "    </tr>\n",
              "    <tr>\n",
              "      <th>...</th>\n",
              "      <td>...</td>\n",
              "      <td>...</td>\n",
              "    </tr>\n",
              "    <tr>\n",
              "      <th>492</th>\n",
              "      <td>492</td>\n",
              "      <td>0.201766</td>\n",
              "    </tr>\n",
              "    <tr>\n",
              "      <th>493</th>\n",
              "      <td>493</td>\n",
              "      <td>0.042374</td>\n",
              "    </tr>\n",
              "    <tr>\n",
              "      <th>494</th>\n",
              "      <td>494</td>\n",
              "      <td>0.172510</td>\n",
              "    </tr>\n",
              "    <tr>\n",
              "      <th>495</th>\n",
              "      <td>495</td>\n",
              "      <td>0.363099</td>\n",
              "    </tr>\n",
              "    <tr>\n",
              "      <th>496</th>\n",
              "      <td>496</td>\n",
              "      <td>0.166201</td>\n",
              "    </tr>\n",
              "  </tbody>\n",
              "</table>\n",
              "<p>497 rows × 2 columns</p>\n",
              "</div>\n",
              "      <button class=\"colab-df-convert\" onclick=\"convertToInteractive('df-ee644051-70e0-4eed-b3e9-33acafb55d11')\"\n",
              "              title=\"Convert this dataframe to an interactive table.\"\n",
              "              style=\"display:none;\">\n",
              "        \n",
              "  <svg xmlns=\"http://www.w3.org/2000/svg\" height=\"24px\"viewBox=\"0 0 24 24\"\n",
              "       width=\"24px\">\n",
              "    <path d=\"M0 0h24v24H0V0z\" fill=\"none\"/>\n",
              "    <path d=\"M18.56 5.44l.94 2.06.94-2.06 2.06-.94-2.06-.94-.94-2.06-.94 2.06-2.06.94zm-11 1L8.5 8.5l.94-2.06 2.06-.94-2.06-.94L8.5 2.5l-.94 2.06-2.06.94zm10 10l.94 2.06.94-2.06 2.06-.94-2.06-.94-.94-2.06-.94 2.06-2.06.94z\"/><path d=\"M17.41 7.96l-1.37-1.37c-.4-.4-.92-.59-1.43-.59-.52 0-1.04.2-1.43.59L10.3 9.45l-7.72 7.72c-.78.78-.78 2.05 0 2.83L4 21.41c.39.39.9.59 1.41.59.51 0 1.02-.2 1.41-.59l7.78-7.78 2.81-2.81c.8-.78.8-2.07 0-2.86zM5.41 20L4 18.59l7.72-7.72 1.47 1.35L5.41 20z\"/>\n",
              "  </svg>\n",
              "      </button>\n",
              "      \n",
              "  <style>\n",
              "    .colab-df-container {\n",
              "      display:flex;\n",
              "      flex-wrap:wrap;\n",
              "      gap: 12px;\n",
              "    }\n",
              "\n",
              "    .colab-df-convert {\n",
              "      background-color: #E8F0FE;\n",
              "      border: none;\n",
              "      border-radius: 50%;\n",
              "      cursor: pointer;\n",
              "      display: none;\n",
              "      fill: #1967D2;\n",
              "      height: 32px;\n",
              "      padding: 0 0 0 0;\n",
              "      width: 32px;\n",
              "    }\n",
              "\n",
              "    .colab-df-convert:hover {\n",
              "      background-color: #E2EBFA;\n",
              "      box-shadow: 0px 1px 2px rgba(60, 64, 67, 0.3), 0px 1px 3px 1px rgba(60, 64, 67, 0.15);\n",
              "      fill: #174EA6;\n",
              "    }\n",
              "\n",
              "    [theme=dark] .colab-df-convert {\n",
              "      background-color: #3B4455;\n",
              "      fill: #D2E3FC;\n",
              "    }\n",
              "\n",
              "    [theme=dark] .colab-df-convert:hover {\n",
              "      background-color: #434B5C;\n",
              "      box-shadow: 0px 1px 3px 1px rgba(0, 0, 0, 0.15);\n",
              "      filter: drop-shadow(0px 1px 2px rgba(0, 0, 0, 0.3));\n",
              "      fill: #FFFFFF;\n",
              "    }\n",
              "  </style>\n",
              "\n",
              "      <script>\n",
              "        const buttonEl =\n",
              "          document.querySelector('#df-ee644051-70e0-4eed-b3e9-33acafb55d11 button.colab-df-convert');\n",
              "        buttonEl.style.display =\n",
              "          google.colab.kernel.accessAllowed ? 'block' : 'none';\n",
              "\n",
              "        async function convertToInteractive(key) {\n",
              "          const element = document.querySelector('#df-ee644051-70e0-4eed-b3e9-33acafb55d11');\n",
              "          const dataTable =\n",
              "            await google.colab.kernel.invokeFunction('convertToInteractive',\n",
              "                                                     [key], {});\n",
              "          if (!dataTable) return;\n",
              "\n",
              "          const docLinkHtml = 'Like what you see? Visit the ' +\n",
              "            '<a target=\"_blank\" href=https://colab.research.google.com/notebooks/data_table.ipynb>data table notebook</a>'\n",
              "            + ' to learn more about interactive tables.';\n",
              "          element.innerHTML = '';\n",
              "          dataTable['output_type'] = 'display_data';\n",
              "          await google.colab.output.renderOutput(dataTable, element);\n",
              "          const docLink = document.createElement('div');\n",
              "          docLink.innerHTML = docLinkHtml;\n",
              "          element.appendChild(docLink);\n",
              "        }\n",
              "      </script>\n",
              "    </div>\n",
              "  </div>\n",
              "  "
            ],
            "text/plain": [
              "     index    y_pred\n",
              "0        0  0.162710\n",
              "1        1  0.971916\n",
              "2        2  0.154992\n",
              "3        3  0.282665\n",
              "4        4  0.942411\n",
              "..     ...       ...\n",
              "492    492  0.201766\n",
              "493    493  0.042374\n",
              "494    494  0.172510\n",
              "495    495  0.363099\n",
              "496    496  0.166201\n",
              "\n",
              "[497 rows x 2 columns]"
            ]
          },
          "metadata": {},
          "execution_count": 210
        }
      ]
    }
  ]
}